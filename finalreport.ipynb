{
  "cells": [
    {
      "cell_type": "code",
      "execution_count": null,
      "metadata": {
        "id": "cce9OScnBOlC"
      },
      "outputs": [],
      "source": [
        "import pandas as pd\n",
        "import matplotlib.pyplot as plt\n",
        "import seaborn as sns\n",
        "import gradio as gr\n",
        "# Step 1: Load the dataset\n",
        "file_path = \"10_Property_stolen_and_recovered.xlsx\"\n",
        "xls = pd.ExcelFile(file_path)\n",
        "# View available sheets\n",
        "print(\"Available Sheets:\", xls.sheet_names)\n",
        "# Load the relevant sheet (e.g., first sheet)\n",
        "df = pd.read_excel(xls, sheet_name=xls.sheet_names[0])\n",
        "# Step 2: Basic Cleaning\n",
        "df.dropna(how='all', inplace=True)  # remove completely empty rows\n",
        "df.columns = [col.strip() for col in df.columns]  # clean column names\n",
        "df = df[df['Year'].notnull()]  # keep rows with valid year values\n",
        "# Display first few rows\n",
        "print(df.head())\n",
        "# Step 3: Exploratory Data Analysis\n",
        "plt.figure(figsize=(10, 6))\n",
        "sns.barplot(data=df, x='Year', y='Property Stolen (₹)', hue='State/UT')\n",
        "plt.title(\"Property Stolen Over Years\")\n",
        "plt.xticks(rotation=45)\n",
        "plt.tight_layout()\n",
        "plt.show()\n",
        "# Step 4: Add Recovery Rate column (if not present)\n",
        "if 'Recovery Rate (%)' not in df.columns:\n",
        "    df['Recovery Rate (%)'] = (df['Property Recovered (₹)'] / df['Property Stolen (₹)']) * 100\n",
        "# Step 5: Define a Gradio UI for visualization\n",
        "def recovery_query(state: str, year: int):\n",
        "    data = df[(df['State/UT'] == state) & (df['Year'] == year)]\n",
        "    if not data.empty:\n",
        "        stolen = float(data['Property Stolen (₹)'].values[0])\n",
        "        recovered = float(data['Property Recovered (₹)'].values[0])\n",
        "        rate = float(data['Recovery Rate (%)'].values[0])\n",
        "        return f\"Stolen: ₹{stolen:.2f}\\nRecovered: ₹{recovered:.2f}\\nRecovery Rate: {rate:.2f}%\"\n",
        "    else:\n",
        "        return \"No data found for the selected state and year.\"\n",
        "states = sorted(df['State/UT'].unique())\n",
        "years = sorted(df['Year'].unique())\n",
        "gr.Interface(\n",
        "    fn=recovery_query,\n",
        "    inputs=[gr.Dropdown(choices=states, label=\"State/UT\"),\n",
        "            gr.Dropdown(choices=years, label=\"Year\")],\n",
        "    outputs=\"text\",\n",
        "    title=\"Property Recovery Stats\",\n",
        "    description=\"Select a State/UT and Year to view property stolen, recovered, and recovery rate.\"\n",
        ").launch()"
      ]
    }
  ],
  "metadata": {
    "colab": {
      "name": "Welcome To Colab",
      "provenance": [],
      "toc_visible": true
    },
    "kernelspec": {
      "display_name": "Python 3",
      "name": "python3"
    }
  },
  "nbformat": 4,
  "nbformat_minor": 0
}
